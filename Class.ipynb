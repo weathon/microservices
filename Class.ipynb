{
  "nbformat": 4,
  "nbformat_minor": 0,
  "metadata": {
    "colab": {
      "provenance": [],
      "authorship_tag": "ABX9TyPZ89MhVC9wS+cA2QySqHAg",
      "include_colab_link": true
    },
    "kernelspec": {
      "name": "python3",
      "display_name": "Python 3"
    },
    "language_info": {
      "name": "python"
    },
    "accelerator": "GPU",
    "gpuClass": "standard"
  },
  "cells": [
    {
      "cell_type": "markdown",
      "metadata": {
        "id": "view-in-github",
        "colab_type": "text"
      },
      "source": [
        "<a href=\"https://colab.research.google.com/github/weathon/microservices/blob/main/Class.ipynb\" target=\"_parent\"><img src=\"https://colab.research.google.com/assets/colab-badge.svg\" alt=\"Open In Colab\"/></a>"
      ]
    },
    {
      "cell_type": "code",
      "execution_count": 228,
      "metadata": {
        "id": "5CGcoSeym-XE",
        "colab": {
          "base_uri": "https://localhost:8080/"
        },
        "outputId": "4f6e4388-0b20-4ddb-acd5-aa34444f2dbc"
      },
      "outputs": [
        {
          "output_type": "stream",
          "name": "stdout",
          "text": [
            "['major league hacking, inc (\"mlh\", \"us\" or \"we\") respects the privacy of the parties visiting its website, the home page of which is located at http://www.mlh.io', '']\n",
            "['the home page and accompanying pages will collectively be known as \"website\"', '']\n",
            "['this privacy policy is intended to educate you on our policies and practices regarding the collection, use and disclosure of any personal information (defined below) and anonymous information (defined below) you submit to us or we collect through our website', '']\n",
            "['unless otherwise defined herein, capitalized terms shall have the definitions assigned to such terms set forth in the mlh terms and conditions that you can find at terms and conditions and which incorporate this privacy policy \"personal information\" is information about you that is personally identifiable to you, like your name, address, email address, or phone number, as well as other non-public information that is associated with the foregoing', '']\n",
            "['“anonymous information” is information that is not associated with or linked to your personal information; anonymous information does not allow the identification of individual persons', '']\n",
            "['we collect and use personal information and anonymous information as indicated in this privacy policy', 'n']\n",
            "[' user consent when you submit any personal information through our website, you agree to the terms of this privacy policy and you expressly consent to the treatment of your personal information defined in this privacy policy', 'n']\n",
            "[' information collected we may collect personal information that you submit to us voluntarily through our website or submitted to an event organizer at one of our sanctioned mlh events', 'n']\n",
            "['we collect this information when you register, create and edit a profile, answer survey questions, enter contests, use certain features on the site, or submit information to an event organizer at one of our sanctioned mlh events', 'n']\n",
            "['the types of information you can choose to provide on our site may include, without limitation,:  name, username, password, email address, and contact information', 'n']\n",
            "['billing and shipping addresses, credit card number, and expiration date', 'n']\n",
            "['we or our third party service providers may also gather information relating to your devices, including: device model, operating system, browser type, unique device identifier, ip address, mobile phone number, mobile network carrier, location, and event information (such as application installations)', 'n']\n",
            "['other personal information you choose to provide such as your preferences, etc', '']\n",
            "['use of information we may use your personal information for the following general purposes:  to fulfill or respond to your inquiries', '']\n",
            "['to address administrative needs and communications', '']\n",
            "['to improve our products and services', 'n']\n",
            "['to contact you for internal business purposes', 'n']\n",
            "['to provide you with newsletters, surveys, promotions, and notices on changes and upgrades to our products and services', 'n']\n",
            "['marketing communications from third parties at your request', '']\n",
            "['we use anonymous information such as web or mobile pages you have viewed, in order to analyze request and usage patterns so that we may improve our products and services, enhance our user experience, and gather broad demographic information for aggregate use', '']\n",
            "['anonymous information consists of data that would not identify you personally; these records exclude information (such as your name) that makes them personally identifiable to you', 'p']\n",
            "['we may disclose anonymous information to third parties that promote our products and services', 'n']\n",
            "['mlh reserves the right to use and disclose anonymous information to third parties in its discretion', 'n']\n",
            "[' information sharing except as otherwise stated in this privacy policy, we do not trade, rent, or share your personal information with third parties and we will not disclose financial information that is part of your personal information unless you request or authorize that we do so', 'p']\n",
            "['if you provide personal information for a certain reason, we may use the personal information in connection with the reason for which it was provided', '']\n",
            "['for instance, if you contact us by e-mail, we will use the personal information you provide to answer your question or resolve your problem and will respond to the email address from which the contact came', '']\n",
            "[' mlh may disclose personal information to its corporate subsidiaries or entities affiliated with mlh', 'n']\n",
            "[\"any personal information provided to mlh's subsidiaries or entities affiliated with mlh will be treated by those subsidiaries and affiliated entities in accordance with the terms of this privacy policy\", '']\n",
            "[' we may share your personal information with third parties to provide you with the products and services that we offer you through the website such as mlh member event organizers (“event organizers”)', 'n']\n",
            "['we make no representations or warranties as to how such event organizers will use your personal information', 'n']\n",
            "['you expressly consent to the sharing of your personal information with our contractors and third party service providers (for example, without limitation, individuals providing support services to mlh events mailchimp, targeted advertising through facebook, twitter, etc) for the sole purpose of providing products and services to you', 'n']\n",
            "[' we may participate in co-branding or co-promotional agreements with third parties pursuant to which we may share personal information with such third parties (\"partner companies\")', 'n']\n",
            "['for example, we may participate in agreements with partner companies pursuant to which we provide the partner companies with a url and a customer registration page co-branded with, or private labeled by, the partner companies, and the partner companies distributes and promotes the url to its customers', 'n']\n",
            "['a partner company may have access to personal information that we collect from their customers', 'n']\n",
            "['as a result, if you register on the website through a partner company, we may provide your personal information to the partner company', 'n']\n",
            "['we do not control the privacy practices of these partner companies', 'n']\n",
            "[' we may participate in co-branding or co-promotional agreements with third parties pursuant to which we may share personal we may offer you the chance to participate in drawings, contests, giveaways, and promotions (\"special promotions\") through our web site', 'n']\n",
            "['by registering for a special promotion, you agree to the official rules that govern that special promotion, which may contain specific requirements of you, including, except where prohibited by law, allowing the sponsor(s) of the special promotion to use your name, voice and/or likeness in advertising or marketing associated with the special promotion', 'n']\n",
            "['if you choose to enter a drawing, contest or other promotion, personally identifiable information may be disclosed to third parties or the public in connection with the administration of such special promotion, including, without limitation, in connection with winner selection, prize fulfillment, and as required by law or permitted by the special promotion’s official rules, such as on a winners list', 'n']\n",
            "[' mlh may use your personal information in order to provide to third parties non-personal aggregated information about you that does not allow you to be identified or contacted and that is combined with the personal information of other users (\"aggregate information\")', 'p']\n",
            "['for example, we might inform third parties regarding the number of users of our site and the activities they conduct while on our site', '']\n",
            "['we might also inform a company that performs services or that provides products and/or services to mlh (that may or may not be a mlh business partner or an advertiser on our site) that \"50% of our users live in the usa\" or that \"85% of our users have purchased products and/or services which can be downloaded from mlh\\'s web site.\" depending on the circumstances, we may or may not charge third parties for this aggregate information', '']\n",
            "[\"we may not limit the third parties' use of the aggregate information\", '']\n",
            "[' if another company acquires our company or our assets, that company will possess the personal information we have collected and that company will assume the rights and obligations regarding your personal information as indicated in this privacy policy', 'n']\n",
            "[' under the following scenarios, we may be required to share your personal information:  if we believe it is necessary to share information in order to investigate, prevent or take action regarding illegal activities, suspected fraud, situations involving possible threats to the physical safety of any person, violations of our terms of use or as otherwise required by law', '']\n",
            "['if we respond to subpoenas, court orders or legal process, or if we need to establish or exercise our legal rights or defend against legal claims', '']\n",
            "['if we believe it is necessary to restrict or inhibit any user from using any of our websites, including, without limitation, by means of \"hacking\" or defacing any portion thereof', '']\n",
            "['opt-out you have options regarding the collection, use and sharing of your personal information', '']\n",
            "['when you receive promotional communications from us, you may specify a preference to stop receiving further communications from us and you will have the chance to \"opt-out\" by following the unsubscribe instructions indicated in the communication you receive', 'p']\n",
            "['despite your selected preferences, we may send you communications regarding the services we provide to you, such as notices about administrative updates, transaction reports, notices of new website releases, and notices regarding changes to the website, updates to our privacy policy, terms of use, or other policies', '']\n",
            "[' you may make changes to any of the personal information in your account by editing your online profile', '']\n",
            "[' california privacy rights as provided by california civil code 1798.83, if you are a california resident, you have the right to receive (a) information identifying any third party company(ies) to whom we have disclosed your personal information to in the past year; and (b) a description of the categories of personal information disclosed', '']\n",
            "['to obtain such information, please email your request to hi@mlh.io with [california privacy rights request] in the subject line', '']\n",
            "[' children’s information to use the site, you must be, and represent and warrant that you are, of legal age (13 years of age or older) and competence', '']\n",
            "['if you are between 13 and 18 years of age, you must have your parent or legal guardian’s permission to use the site', '']\n",
            "['you must not access the site or accept these terms if you are a person who is either barred or otherwise legally prohibited from receiving or using the service or any products under the laws of the country in which you are resident or from which you access or use the site', '']\n",
            "['by using the site on behalf of any third party, you are representing to us that you are an authorized representative of that third party and that your use of the site constitutes that third party’s acceptance of these terms', '']\n",
            "['in addition, if you have been previously prohibited from accessing the site or the website of any of our affiliates, you are not permitted to access the site', '']\n",
            "['while using the site, you agree to abide by the mlh code of conduct which can be found at http://mlh.io/code-of-conduct', '']\n",
            "[' other websites our provision of a link to any other website or location is for your convenience and does not indicate our endorsement of such other website or location or its contents', '']\n",
            "['we have no control over, do not review, and cannot be responsible for these outside websites or their content', '']\n",
            "['please be aware that the terms of our privacy policy do not apply to these outside websites', '']\n",
            "[' cookies and similar technologies we may use pixel tags, cookies, and/or other similar technologies to collect visitor information', 'n']\n",
            "[\" cookies, for example, are alphanumeric identifiers that we transfer to your computer's hard drive through your web browser\", 'n']\n",
            "['they make it possible for us to save the items in your shopping cart until you are ready to check out, recognize your browser when you visit, and provide you with information about products that interest you', '']\n",
            "['by doing this, we can customize your return visits and save you time during checkout', '']\n",
            "['it is possible to deactivate cookies from being used in your browser by turning the feature off, but in order to enjoy the benefits of being a registered user, your browser must be set to accept cookies', '']\n",
            "[' security your account is password protected for your privacy and security', '']\n",
            "['you need to prevent unauthorized access to your account and personal information by selecting and protecting your password, and limiting access to your computer, phone and browser by taking precautions such as signing off after you have finished accessing your account', '']\n",
            "['we use industry standard measures to protect personal information', '']\n",
            "['however, we cannot guarantee the security of account information', '']\n",
            "['unauthorized entry or use, hardware or software failure, and other factors, may compromise the security of user information at any time', '']\n",
            "[' updates to privacy policy we may modify this privacy policy from time to time by posting updates on this page', '']\n",
            "['please check back regularly to view any updates', '']\n",
            "[' this privacy policy was last updated on june 30, 2021', '']\n",
            "[' contact us should you have any questions, concerns or feedback regarding this privacy policy, please contact us by email at: hi@mlh.io', '']\n",
            "['  the facebook company is now meta', '']\n",
            "['we’ve updated our terms of use, data policy, and cookies policy to reflect the new name on january 4, 2022', '']\n",
            "['while our company name has changed, we are continuing to offer the same products, including the facebook app from meta', '']\n",
            "['our data policy and terms of service remain in effect, and this name change does not affect how we use or share data', '']\n",
            "['learn more about meta and our vision for the metaverse', '']\n",
            "['data policy this policy describes the information we process to support facebook, instagram, messenger and other products and features offered by meta platforms, inc', '']\n",
            "['(meta products or products)', '']\n",
            "['you can find additional tools and information in the facebook settings and instagram settings', '']\n",
            "['i', '']\n",
            "['what kinds of information do we collect? to provide the meta products, we must process information about you', 'n']\n",
            "['the types of information we collect depend on how you use our products', '']\n",
            "['you can learn how to access and delete information we collect by visiting the facebook settings and instagram settings', '']\n",
            "['things you and others do and provide', '']\n",
            "['information and content you provide', '']\n",
            "['we collect the content, communications and other information you provide when you use our products, including when you sign up for an account, create or share content, and message or communicate with others', '']\n",
            "['this can include information in or about the content you provide (like metadata), such as the location of a photo or the date a file was created', '']\n",
            "['it can also include what you see through features we provide, such as our camera, so we can do things like suggest masks and filters that you might like, or give you tips on using camera formats', 'n']\n",
            "[\"our systems automatically process content and communications you and others provide to analyze context and what's in them for the purposes described below\", 'n']\n",
            "['learn more about how you can control who can see the things you share', 'n']\n",
            "['data with special protections: you can choose to provide information in your facebook profile fields or life events about your religious views, political views, who you are \"interested in,\" or your health', '']\n",
            "['this and other information (such as racial or ethnic origin, philosophical beliefs or trade union membership) could be subject to special protections under the laws of your country', '']\n",
            "['networks and connections', '']\n",
            "['we collect information about the people, accounts, hashtags and facebook groups, and pages you are connected to and how you interact with them across our products, such as people you communicate with the most or groups you are part of', 'n']\n",
            "['we also collect contact information if you choose to upload, sync or import it from a device (such as an address book or call log or sms log history), which we use for things like helping you and others find people you may know and for the other purposes listed below', 'n']\n",
            "['your usage', '']\n",
            "['we collect information about how you use our products, such as the types of content you view or engage with; the features you use; the actions you take; the people or accounts you interact with; and the time, frequency and duration of your activities', 'n']\n",
            "[\"for example, we log when you're using and have last used our products, and what posts, videos and other content you view on our products\", '']\n",
            "['we also collect information about how you use features like our camera', '']\n",
            "['information about transactions made on our products', '']\n",
            "['if you use our products for purchases or other financial transactions (such as when you make a purchase in a game or make a donation), we collect information about the purchase or transaction', 'n']\n",
            "['this includes payment information, such as your credit or debit card number and other card information; other account and authentication information; and billing, shipping and contact details', 'n']\n",
            "['things others do and information they provide about you', '']\n",
            "['we also receive and analyze content, communications and information that other people provide when they use our products', '']\n",
            "['this can include information about you, such as when others share or comment on a photo of you, send a message to you, or upload, sync or import your contact information', 'n']\n",
            "[' device information as described below, we collect information from and about the computers, phones, connected tvs and other web-connected devices you use that integrate with our products, and we combine this information across different devices you use', '']\n",
            "['for example, we use information collected about your use of our products on your phone to better personalize the content (including ads) or features you see when you use our products on another device, such as your laptop or tablet, or to measure whether you took an action in response to an ad we showed you on your phone on a different device', '']\n",
            "['information we obtain from these devices includes: device attributes: information such as the operating system, hardware and software versions, battery level, signal strength, available storage space, browser type, app and file names and types, and plugins', '']\n",
            "['device operations: information about operations and behaviors performed on the device, such as whether a window is foregrounded or backgrounded, or mouse movements (which can help distinguish humans from bots)', '']\n",
            "['identifiers: unique identifiers, device ids, and other identifiers, such as from games, apps or accounts you use, and family device ids (or other identifiers unique to meta company products associated with the same device or account)', '']\n",
            "['device signals: bluetooth signals, and information about nearby wi-fi access points, beacons, and cell towers', '']\n",
            "['data from device settings: information you allow us to receive through device settings you turn on, such as access to your gps location, camera or photos', '']\n",
            "['network and connections: information such as the name of your mobile operator or isp, language, time zone, mobile phone number, ip address, connection speed and, in some cases, information about other devices that are nearby or on your network, so we can do things like help you stream a video from your phone to your tv', '']\n",
            "['cookie data: data from cookies stored on your device, including cookie ids and settings', '']\n",
            "['learn more about how we use cookies in the facebook cookies policy and instagram cookies policy', '']\n",
            "[' information from partners', '']\n",
            "['advertisers, app developers, and publishers can send us information through meta business tools they use, including our social plug-ins (such as the like button), facebook login, our apis and sdks, or the meta pixel', '']\n",
            "['these partners provide information about your activities off of our products—including information about your device, websites you visit, purchases you make, the ads you see, and how you use their services—whether or not you have an account or are logged into our products', 'n']\n",
            "['for example, a game developer could use our api to tell us what games you play, or a business could tell us about a purchase you made in its store', '']\n",
            "['we also receive information about your online and offline actions and purchases from third-party data providers who have the rights to provide us with your information', '']\n",
            "['partners receive your data when you visit or use their services or through third parties they work with', '']\n",
            "['we require each of these partners to have lawful rights to collect, use and share your data before providing any data to us', '']\n",
            "['learn more about the types of partners we receive data from', '']\n",
            "['to learn more about how we use cookies in connection with meta business tools, review the facebook cookies policy and instagram cookies policy', '']\n",
            "['  ii', '']\n",
            "['how do we use this information? we use the information we have (subject to choices you make) as described below and to provide and support the meta products and related services described in the meta terms and instagram terms', '']\n",
            "[\"here's how: provide, personalize and improve our products\", '']\n",
            "['we use the information we have to deliver our products, including to personalize features and content (including your ads, facebook news feed, instagram feed, and instagram stories) and make suggestions for you (such as groups or events you may be interested in or topics you may want to follow) on and off our products', '']\n",
            "[\"to create personalized products that are unique and relevant to you, we use your connections, preferences, interests and activities based on the data we collect and learn from you and others (including any data with special protections you choose to provide); how you use and interact with our products; and the people, places, or things you're connected to and interested in on and off our products\", '']\n",
            "['learn more about how we use information about you to personalize your facebook and instagram experience, including features, content and recommendations in meta products; you can also learn more about how we choose the ads that you see', '']\n",
            "['information across meta products and devices: we connect information about your activities on different meta products and devices to provide a more tailored and consistent experience on all meta products you use, wherever you use them', '']\n",
            "['for example, we can suggest that you join a group on facebook that includes people you follow on instagram or communicate with using messenger', '']\n",
            "['we can also make your experience more seamless, for example, by automatically filling in your registration information (such as your phone number) from one meta product when you sign up for an account on a different product', '']\n",
            "[\"location-related information: we use location-related information-such as your current location, where you live, the places you like to go, and the businesses and people you're near-to provide, personalize and improve our products, including ads, for you and others\", 'n']\n",
            "[\"location-related information can be based on things like precise device location (if you've allowed us to collect it), ip addresses, and information from your and others' use of meta products (such as check-ins or events you attend)\", '']\n",
            "['product research and development: we use the information we have to develop, test and improve our products, including by conducting surveys and research, and testing and troubleshooting new products and features', '']\n",
            "['ads and other sponsored content: we use the information we have about you-including information about your interests, actions and connections-to select and personalize ads, offers and other sponsored content that we show you', '']\n",
            "['learn more about how we select and personalize ads, and your choices over the data we use to select ads and other sponsored content for you in the facebook settings and instagram settings', '']\n",
            "[' provide measurement, analytics, and other business services', '']\n",
            "['we use the information we have (including your activity off our products, such as the websites you visit and ads you see) to help advertisers and other partners measure the effectiveness and distribution of their ads and services, and understand the types of people who use their services and how people interact with their websites, apps, and services', '']\n",
            "['learn how we share information with these partners', '']\n",
            "[' promote safety, integrity and security', '']\n",
            "['we use the information we have to verify accounts and activity, combat harmful conduct, detect and prevent spam and other bad experiences, maintain the integrity of our products, and promote safety and security on and off of meta products', '']\n",
            "['for example, we use data we have to investigate suspicious activity or violations of our terms or policies, or to detect when someone needs help', '']\n",
            "['to learn more, visit the facebook security help center and instagram security tips', '']\n",
            "[' communicate with you', '']\n",
            "['we use the information we have to send you marketing communications, communicate with you about our products, and let you know about our policies and terms', '']\n",
            "['we also use your information to respond to you when you contact us', '']\n",
            "[' research and innovate for social good', '']\n",
            "['we use the information we have (including from research partners we collaborate with) to conduct and support research and innovation on topics of general social welfare, technological advancement, public interest, health and well-being', '']\n",
            "['for example, we analyze information we have about migration patterns during crises to aid relief efforts', '']\n",
            "['learn more about our research programs', 'p']\n",
            "['  iii', '']\n",
            "['how is this information shared? your information is shared with others in the following ways: sharing on meta products people and accounts you share and communicate with when you share and communicate using our products, you choose the audience for what you share', '']\n",
            "['for example, when you post on facebook, you select the audience for the post, such as a group, all of your friends, the public, or a customized list of people', '']\n",
            "['similarly, when you use messenger or instagram to communicate with people or businesses, those people and businesses can see the content you send', '']\n",
            "['your network can also see actions you have taken on our products, including engagement with ads and sponsored content', '']\n",
            "['we also let other accounts see who has viewed their facebook or instagram stories', '']\n",
            "[\"public information can be seen by anyone, on or off our products, including if they don't have an account\", '']\n",
            "['this includes your instagram username; any information you share with a public audience; information in your public profile on facebook; and content you share on a facebook page, public instagram account or any other public forum, such as facebook marketplace', '']\n",
            "['you, other people using facebook and instagram, and we can provide access to or send public information to anyone on or off our products, including in other meta company products, in search results, or through tools and apis', '']\n",
            "['public information can also be seen, accessed, reshared or downloaded through third-party services such as search engines, apis, and offline media such as tv, and by apps, websites and other services that integrate with our products', '']\n",
            "['learn more about what information is public and how to control your visibility on facebook and instagram', '']\n",
            "['content others share or reshare about you you should consider who you choose to share with, because people who can see your activity on our products can choose to share it with others on and off our products, including people and businesses outside the audience you shared with', '']\n",
            "['for example, when you share a post or send a message to specific friends or accounts, they can download, screenshot, or reshare that content to others across or off our products, in person or in virtual reality experiences such as horizon worlds', '']\n",
            "[\"also, when you comment on someone else's post or react to their content, your comment or reaction is visible to anyone who can see the other person's content, and that person can change the audience later\", '']\n",
            "['people can also use our products to create and share content about you with the audience they choose', '']\n",
            "['for example, people can share a photo of you in a story, mention or tag you at a location in a post, or share information about you in their posts or messages', '']\n",
            "['if you are uncomfortable with what others have shared about you on our products, you can learn how to report the content', 'p']\n",
            "['information about your active status or presence on our products', '']\n",
            "['people in your networks can see signals telling them whether you are active on our products, including whether you are currently active on instagram, messenger or facebook, or when you last used our products', '']\n",
            "['apps, websites, and third-party integrations on or using our products', '']\n",
            "['when you choose to use third-party apps, websites, or other services that use, or are integrated with, our products, they can receive information about what you post or share', '']\n",
            "['for example, when you play a game with your facebook friends or use a facebook comment or share button on a website, the game developer or website can receive information about your activities in the game or receive a comment or link that you share from the website on facebook', '']\n",
            "['also, when you download or use such third-party services, they can access your public profile on facebook, and any information that you share with them', '']\n",
            "['apps and websites you use may receive your list of facebook friends if you choose to share it with them', '']\n",
            "['but apps and websites you use will not be able to receive any other information about your facebook friends from you, or information about any of your instagram followers (although your friends and followers may, of course, choose to share this information themselves)', '']\n",
            "['information collected by these third-party services is subject to their own terms and policies, not this one', '']\n",
            "['devices and operating systems providing native versions of facebook and instagram (i.e', '']\n",
            "['where we have not developed our own first-party apps) will have access to all information you choose to share with them, including information your friends share with you, so they can provide our core functionality to you', '']\n",
            "['note: we are in the process of restricting developers’ data access even further to help prevent abuse', 'p']\n",
            "[\"for example, we will remove developers' access to your facebook and instagram data if you haven't used their app in 3 months, and we are changing login, so that in the next version, we will reduce the data that an app can request without app review to include only name, instagram username and bio, profile photo and email address\", 'p']\n",
            "['requesting any other data will require our approval', '']\n",
            "['new owner', '']\n",
            "['if the ownership or control of all or part of our products or their assets changes, we may transfer your information to the new owner', '']\n",
            "[' sharing with third-party partners we work with third-party partners who help us provide and improve our products or who use meta business tools to grow their businesses, which makes it possible to operate our companies and provide free services to people around the world', '']\n",
            "[\"we don't sell any of your information to anyone, and we never will\", '']\n",
            "['we also impose strict restrictions on how our partners can use and disclose the data we provide', 'p']\n",
            "['here are the types of third parties we share information with: partners who use our analytics services', '']\n",
            "['we provide aggregated statistics and insights that help people and businesses understand how people are engaging with their posts, listings, facebook pages, videos and other content on and off the meta products', '']\n",
            "['for example, facebook page admins and instagram business profiles receive information about the number of people or accounts who viewed, reacted to, or commented on their posts, as well as aggregate demographic and other information that helps them understand interactions with their account or facebook page', '']\n",
            "['advertisers', '']\n",
            "[\"we provide advertisers with reports about the kinds of people seeing their ads and how their ads are performing, but we don't share information that personally identifies you (information such as your name or email address that by itself can be used to contact you or identifies who you are) unless you give us permission\", '']\n",
            "['for example, we provide general demographic and interest information to advertisers (for example, that an ad was seen by a woman between the ages of 25 and 34 who lives in madrid and likes software engineering) to help them better understand their audience', '']\n",
            "['we also confirm which ads led you to make a purchase or take an action with an advertiser', '']\n",
            "['measurement partners', '']\n",
            "['we share information about you with companies that aggregate it to provide analytics and measurement reports to our partners', '']\n",
            "['partners offering goods and services in our products', '']\n",
            "['when you subscribe to receive premium content, or buy something from a seller in our products, the content creator or seller can receive your public information and other information you share with them, as well as the information needed to complete the transaction, including shipping and contact details', '']\n",
            "['vendors and service providers', '']\n",
            "['we provide information and content to vendors and service providers who support our business, such as by providing technical infrastructure services, analyzing how our products are used, providing customer service, facilitating payments or conducting surveys', '']\n",
            "['researchers and academics', '']\n",
            "['we also provide information and content to research partners and academics to conduct research that advances scholarship and innovation that support our business or mission, and enhances discovery and innovation on topics of general social welfare, technological advancement, public interest, health and well-being', '']\n",
            "['law enforcement or legal requests', '']\n",
            "['we share information with law enforcement or in response to legal requests in the circumstances outlined below', '']\n",
            "['learn more about how you can control the information about you that you or others share with third-party partners in the facebook settings and instagram settings', '']\n",
            "['  iv', '']\n",
            "['how do the meta companies work together? facebook and instagram share infrastructure, systems and technology with other meta companies (which include whatsapp and oculus) to provide an innovative, relevant, consistent and safe experience across all meta company products you use', '']\n",
            "['we also process information about you across the meta companies for these purposes, as permitted by applicable law and in accordance with their terms and policies', '']\n",
            "['for example, we process information from whatsapp about accounts sending spam on its service so we can take appropriate action against those accounts on facebook, instagram or messenger', '']\n",
            "['we also work to understand how people use and interact with meta company products, such as understanding the number of unique users on different meta company products', '']\n",
            "['  v', '']\n",
            "['how can i manage or delete information about me? we provide you with the ability to access, rectify, port and erase your data', '']\n",
            "['learn more in your facebook settings and instagram settings', '']\n",
            "['we store data until it is no longer necessary to provide our services and meta products, or until your account is deleted - whichever comes first', 'p']\n",
            "['this is a case-by-case determination that depends on things like the nature of the data, why it is collected and processed, and relevant legal or operational retention needs', '']\n",
            "['for example, when you search for something on facebook, you can access and delete that query from within your search history at any time, but the log of that search is deleted after 6 months', '']\n",
            "['if you submit a copy of your government-issued id for account verification purposes, we delete that copy 30 days after review, unless otherwise stated', 'p']\n",
            "['learn more about deletion of content you have shared and cookie data obtained through social plugins', '']\n",
            "[\"when you delete your account, we delete things you have posted, such as your photos and status updates, and you won't be able to recover that information later\", '']\n",
            "[\"information that others have shared about you isn't part of your account and won't be deleted\", '']\n",
            "[\"if you don't want to delete your account but want to temporarily stop using the products, you can deactivate your account instead\", '']\n",
            "['to delete your account at any time, please visit the facebook settings and instagram settings', '']\n",
            "['  vi', '']\n"
          ]
        }
      ],
      "source": [
        "with open(\"labeled.txt\",\"r\") as f:\n",
        "  text=f.read().lower().split(\"\\n\")\n",
        "\n",
        "\n",
        "# Model 1 0~1 Negative conf   Model 2 0~1 Positive conf\n",
        "X1 = []\n",
        "Y1 = []\n",
        "X2 = []\n",
        "Y2 = []\n",
        "for i in text:\n",
        "  if i == \"\":\n",
        "    continue\n",
        "  o = i.split(\"------\")\n",
        "  print(o)\n",
        "  if o[1] == \"\":\n",
        "    X1.append(o[0].split(\" \"))\n",
        "    Y1.append(0)\n",
        "    X2.append(o[0].split(\" \"))\n",
        "    Y2.append(0)"
      ]
    },
    {
      "cell_type": "code",
      "source": [
        "with open(\"Positive.txt\",\"r\") as f:\n",
        "  text=f.read().lower().replace(\"“\",\"\").replace(\"”\",\"\").replace('\"',\"\").split(\"\\n\")\n",
        "for i in text:\n",
        "  if i == \"\":\n",
        "    continue\n",
        "\n",
        "  X1.append(i.split(\" \"))\n",
        "  Y1.append(0)\n",
        "  X2.append(i.split(\" \"))\n",
        "  Y2.append(1)"
      ],
      "metadata": {
        "id": "R_jUEWkvV3mH"
      },
      "execution_count": 229,
      "outputs": []
    },
    {
      "cell_type": "code",
      "source": [
        "with open(\"Negative.txt\",\"r\") as f:\n",
        "  text=f.read().lower().replace(\"“\",\"\").replace(\"”\",\"\").replace('\"',\"\").split(\"\\n\")\n",
        "for i in text:\n",
        "  if i == \"\":\n",
        "    continue\n",
        "\n",
        "  X1.append(i.split(\" \"))\n",
        "  Y1.append(1)\n",
        "  X2.append(i.split(\" \"))\n",
        "  Y2.append(0)"
      ],
      "metadata": {
        "id": "Vdp6UBycWUbE"
      },
      "execution_count": 230,
      "outputs": []
    },
    {
      "cell_type": "code",
      "source": [
        "np.sum(Y1)"
      ],
      "metadata": {
        "colab": {
          "base_uri": "https://localhost:8080/"
        },
        "id": "keGaNOPgZc1_",
        "outputId": "6250e68d-2a99-4089-8a15-9f7ce9d17af0"
      },
      "execution_count": 231,
      "outputs": [
        {
          "output_type": "execute_result",
          "data": {
            "text/plain": [
              "307"
            ]
          },
          "metadata": {},
          "execution_count": 231
        }
      ]
    },
    {
      "cell_type": "code",
      "source": [
        "word_to_token = {}\n",
        "token_count = 0\n",
        "tokened = []\n",
        "\n",
        "for i in X1:\n",
        "  line = []\n",
        "  for word in i:\n",
        "    try:\n",
        "      line.append(word_to_token[word])\n",
        "    except:\n",
        "      token_count+=1\n",
        "      word_to_token[word]=token_count\n",
        "      line.append(word_to_token[word])\n",
        "  tokened.append(line)\n",
        "max_length = 0\n",
        "for i in tokened:\n",
        "  if len(i)>max_length:\n",
        "    max_length=len(i)\n",
        "\n",
        "padded = []\n",
        "for i in tokened:\n",
        "  i.extend([0]*(max_length+1-len(i)))\n",
        "  padded.append(i)"
      ],
      "metadata": {
        "id": "OAQG8Y_6q6R7"
      },
      "execution_count": 232,
      "outputs": []
    },
    {
      "cell_type": "code",
      "source": [
        "import numpy as np\n",
        "\n",
        "import tensorflow as tf\n",
        "import tensorflow_hub as hub\n",
        "import tensorflow_datasets as tfds\n",
        "\n",
        "import matplotlib.pyplot as plt\n"
      ],
      "metadata": {
        "id": "9mdQTpM3ufN6"
      },
      "execution_count": 233,
      "outputs": []
    },
    {
      "cell_type": "code",
      "source": [
        "model = tf.keras.Sequential([\n",
        "    tf.keras.layers.Input(shape=(max_length+1)),\n",
        "    tf.keras.layers.Embedding(\n",
        "        input_dim=token_count+2,\n",
        "        output_dim=64),\n",
        "    # tf.keras.layers.Conv1D(16, 5, activation='relu'),\n",
        "    # tf.keras.layers.Conv1D(32, 5, activation='relu'),\n",
        "    # tf.keras.layers.Conv1D(64, 5, activation='relu'),\n",
        "    # tf.keras.layers.Conv1D(128, 5, activation='relu'),\n",
        "    tf.keras.layers.GRU(100, activation='relu', return_sequences=1),\n",
        "    tf.keras.layers.Dense(50, activation='relu'),\n",
        "    tf.keras.layers.Dense(25, activation='relu'),\n",
        "    tf.keras.layers.Flatten(),\n",
        "    tf.keras.layers.Dense(2048, activation='relu'),\n",
        "    tf.keras.layers.Dense(1024, activation='relu'),\n",
        "    tf.keras.layers.Dense(64, activation='relu'),\n",
        "    tf.keras.layers.Dense(64, activation='relu'),\n",
        "    tf.keras.layers.Dropout(0.8),\n",
        "    tf.keras.layers.Dense(32, activation='relu'),\n",
        "    tf.keras.layers.Dense(18, activation='relu'),\n",
        "    tf.keras.layers.Dense(1, activation='sigmoid')\n",
        "])\n",
        "model.summary()"
      ],
      "metadata": {
        "id": "K3DG72qAzgzm"
      },
      "execution_count": null,
      "outputs": []
    },
    {
      "cell_type": "code",
      "source": [
        "model.compile(loss=tf.keras.losses.BinaryCrossentropy(),\n",
        "              optimizer=tf.keras.optimizers.Adam(1e-4),\n",
        "              metrics=[\"accuracy\"])"
      ],
      "metadata": {
        "id": "ZBUC0wQn0CQf"
      },
      "execution_count": 243,
      "outputs": []
    },
    {
      "cell_type": "code",
      "source": [
        "# model.fit(X, padded)\n",
        "index = np.arange(0,len(X1))\n",
        "np.random.shuffle(index)\n",
        "padded = np.array(padded)[index]\n",
        "Y1 = np.array(Y1)[index]\n",
        "model.fit(padded, Y1, epochs=30, shuffle=True, validation_split=0.1)\n",
        "# https://stackoverflow.com/questions/51581521/accuracy-stuck-at-50-keras\n",
        "# THIS HELPED A LOT!!! A QUESTION THAT WAS ANNOYING ME FOR MORE THAN A YEAR!"
      ],
      "metadata": {
        "colab": {
          "base_uri": "https://localhost:8080/",
          "height": 1000
        },
        "id": "e-TUcD8v0Os4",
        "outputId": "15d19adb-f571-4d95-9ad6-d19119def98a"
      },
      "execution_count": 244,
      "outputs": [
        {
          "output_type": "stream",
          "name": "stdout",
          "text": [
            "Epoch 1/30\n",
            "22/22 [==============================] - 10s 379ms/step - loss: 0.6900 - accuracy: 0.5650 - val_loss: 0.6836 - val_accuracy: 0.6104\n",
            "Epoch 2/30\n",
            "22/22 [==============================] - 8s 359ms/step - loss: 0.6814 - accuracy: 0.5925 - val_loss: 0.6660 - val_accuracy: 0.6104\n",
            "Epoch 3/30\n",
            "22/22 [==============================] - 8s 376ms/step - loss: 0.6818 - accuracy: 0.5896 - val_loss: 0.6675 - val_accuracy: 0.6104\n",
            "Epoch 4/30\n",
            "22/22 [==============================] - 8s 348ms/step - loss: 0.6660 - accuracy: 0.5939 - val_loss: 0.6447 - val_accuracy: 0.6104\n",
            "Epoch 5/30\n",
            "22/22 [==============================] - 8s 362ms/step - loss: 0.6522 - accuracy: 0.5968 - val_loss: 0.6183 - val_accuracy: 0.6104\n",
            "Epoch 6/30\n",
            "22/22 [==============================] - 8s 354ms/step - loss: 0.6337 - accuracy: 0.5997 - val_loss: 0.5790 - val_accuracy: 0.6234\n",
            "Epoch 7/30\n",
            "22/22 [==============================] - 8s 356ms/step - loss: 0.5940 - accuracy: 0.6460 - val_loss: 0.5209 - val_accuracy: 0.8052\n",
            "Epoch 8/30\n",
            "22/22 [==============================] - 8s 360ms/step - loss: 0.5265 - accuracy: 0.6879 - val_loss: 0.5151 - val_accuracy: 0.8701\n",
            "Epoch 9/30\n",
            "22/22 [==============================] - 8s 370ms/step - loss: 0.4329 - accuracy: 0.7659 - val_loss: 0.3726 - val_accuracy: 0.9221\n",
            "Epoch 10/30\n",
            "22/22 [==============================] - 8s 359ms/step - loss: 0.3479 - accuracy: 0.8396 - val_loss: 0.3476 - val_accuracy: 0.8961\n",
            "Epoch 11/30\n",
            "22/22 [==============================] - 8s 349ms/step - loss: 0.3054 - accuracy: 0.8902 - val_loss: 0.3129 - val_accuracy: 0.8571\n",
            "Epoch 12/30\n",
            "22/22 [==============================] - 8s 357ms/step - loss: 0.2177 - accuracy: 0.9321 - val_loss: 0.2993 - val_accuracy: 0.8571\n",
            "Epoch 13/30\n",
            "22/22 [==============================] - 8s 351ms/step - loss: 0.1916 - accuracy: 0.9494 - val_loss: 0.2868 - val_accuracy: 0.8312\n",
            "Epoch 14/30\n",
            "22/22 [==============================] - 8s 371ms/step - loss: 0.1240 - accuracy: 0.9711 - val_loss: 0.3409 - val_accuracy: 0.9351\n",
            "Epoch 15/30\n",
            "22/22 [==============================] - 8s 357ms/step - loss: 0.1345 - accuracy: 0.9624 - val_loss: 0.2758 - val_accuracy: 0.9221\n",
            "Epoch 16/30\n",
            "22/22 [==============================] - 8s 351ms/step - loss: 0.1070 - accuracy: 0.9798 - val_loss: 0.3592 - val_accuracy: 0.9091\n",
            "Epoch 17/30\n",
            "22/22 [==============================] - 8s 357ms/step - loss: 0.0870 - accuracy: 0.9870 - val_loss: 0.3053 - val_accuracy: 0.9221\n",
            "Epoch 18/30\n",
            "22/22 [==============================] - 8s 356ms/step - loss: 0.0558 - accuracy: 0.9884 - val_loss: 0.3581 - val_accuracy: 0.8831\n",
            "Epoch 19/30\n",
            "22/22 [==============================] - 8s 348ms/step - loss: 0.0619 - accuracy: 0.9913 - val_loss: 0.6039 - val_accuracy: 0.8052\n",
            "Epoch 20/30\n",
            "22/22 [==============================] - 8s 357ms/step - loss: 0.0582 - accuracy: 0.9870 - val_loss: 0.4213 - val_accuracy: 0.9351\n",
            "Epoch 21/30\n",
            "22/22 [==============================] - 8s 352ms/step - loss: 0.0490 - accuracy: 0.9957 - val_loss: 0.4781 - val_accuracy: 0.9351\n",
            "Epoch 22/30\n",
            "22/22 [==============================] - 8s 359ms/step - loss: 0.0365 - accuracy: 0.9957 - val_loss: 0.4194 - val_accuracy: 0.8701\n",
            "Epoch 23/30\n",
            "22/22 [==============================] - 8s 357ms/step - loss: 0.0378 - accuracy: 0.9986 - val_loss: 0.5340 - val_accuracy: 0.9351\n",
            "Epoch 24/30\n",
            "22/22 [==============================] - 8s 364ms/step - loss: 0.0501 - accuracy: 0.9928 - val_loss: 0.5043 - val_accuracy: 0.8571\n",
            "Epoch 25/30\n",
            "22/22 [==============================] - 8s 352ms/step - loss: 0.0354 - accuracy: 0.9957 - val_loss: 0.5696 - val_accuracy: 0.9351\n",
            "Epoch 26/30\n",
            "12/22 [===============>..............] - ETA: 3s - loss: 0.0224 - accuracy: 0.9948"
          ]
        },
        {
          "output_type": "error",
          "ename": "KeyboardInterrupt",
          "evalue": "ignored",
          "traceback": [
            "\u001b[0;31m---------------------------------------------------------------------------\u001b[0m",
            "\u001b[0;31mKeyboardInterrupt\u001b[0m                         Traceback (most recent call last)",
            "\u001b[0;32m<ipython-input-244-1cc8c6109273>\u001b[0m in \u001b[0;36m<module>\u001b[0;34m\u001b[0m\n\u001b[1;32m      4\u001b[0m \u001b[0mpadded\u001b[0m \u001b[0;34m=\u001b[0m \u001b[0mnp\u001b[0m\u001b[0;34m.\u001b[0m\u001b[0marray\u001b[0m\u001b[0;34m(\u001b[0m\u001b[0mpadded\u001b[0m\u001b[0;34m)\u001b[0m\u001b[0;34m[\u001b[0m\u001b[0mindex\u001b[0m\u001b[0;34m]\u001b[0m\u001b[0;34m\u001b[0m\u001b[0;34m\u001b[0m\u001b[0m\n\u001b[1;32m      5\u001b[0m \u001b[0mY1\u001b[0m \u001b[0;34m=\u001b[0m \u001b[0mnp\u001b[0m\u001b[0;34m.\u001b[0m\u001b[0marray\u001b[0m\u001b[0;34m(\u001b[0m\u001b[0mY1\u001b[0m\u001b[0;34m)\u001b[0m\u001b[0;34m[\u001b[0m\u001b[0mindex\u001b[0m\u001b[0;34m]\u001b[0m\u001b[0;34m\u001b[0m\u001b[0;34m\u001b[0m\u001b[0m\n\u001b[0;32m----> 6\u001b[0;31m \u001b[0mmodel\u001b[0m\u001b[0;34m.\u001b[0m\u001b[0mfit\u001b[0m\u001b[0;34m(\u001b[0m\u001b[0mpadded\u001b[0m\u001b[0;34m,\u001b[0m \u001b[0mY1\u001b[0m\u001b[0;34m,\u001b[0m \u001b[0mepochs\u001b[0m\u001b[0;34m=\u001b[0m\u001b[0;36m30\u001b[0m\u001b[0;34m,\u001b[0m \u001b[0mshuffle\u001b[0m\u001b[0;34m=\u001b[0m\u001b[0;32mTrue\u001b[0m\u001b[0;34m,\u001b[0m \u001b[0mvalidation_split\u001b[0m\u001b[0;34m=\u001b[0m\u001b[0;36m0.1\u001b[0m\u001b[0;34m)\u001b[0m\u001b[0;34m\u001b[0m\u001b[0;34m\u001b[0m\u001b[0m\n\u001b[0m\u001b[1;32m      7\u001b[0m \u001b[0;31m# https://stackoverflow.com/questions/51581521/accuracy-stuck-at-50-keras\u001b[0m\u001b[0;34m\u001b[0m\u001b[0;34m\u001b[0m\u001b[0;34m\u001b[0m\u001b[0m\n\u001b[1;32m      8\u001b[0m \u001b[0;31m# THIS HELPED A LOT!!! A QUESTION THAT WAS ANNOYING ME FOR MORE THAN A YEAR!\u001b[0m\u001b[0;34m\u001b[0m\u001b[0;34m\u001b[0m\u001b[0;34m\u001b[0m\u001b[0m\n",
            "\u001b[0;32m/usr/local/lib/python3.7/dist-packages/keras/utils/traceback_utils.py\u001b[0m in \u001b[0;36merror_handler\u001b[0;34m(*args, **kwargs)\u001b[0m\n\u001b[1;32m     62\u001b[0m     \u001b[0mfiltered_tb\u001b[0m \u001b[0;34m=\u001b[0m \u001b[0;32mNone\u001b[0m\u001b[0;34m\u001b[0m\u001b[0;34m\u001b[0m\u001b[0m\n\u001b[1;32m     63\u001b[0m     \u001b[0;32mtry\u001b[0m\u001b[0;34m:\u001b[0m\u001b[0;34m\u001b[0m\u001b[0;34m\u001b[0m\u001b[0m\n\u001b[0;32m---> 64\u001b[0;31m       \u001b[0;32mreturn\u001b[0m \u001b[0mfn\u001b[0m\u001b[0;34m(\u001b[0m\u001b[0;34m*\u001b[0m\u001b[0margs\u001b[0m\u001b[0;34m,\u001b[0m \u001b[0;34m**\u001b[0m\u001b[0mkwargs\u001b[0m\u001b[0;34m)\u001b[0m\u001b[0;34m\u001b[0m\u001b[0;34m\u001b[0m\u001b[0m\n\u001b[0m\u001b[1;32m     65\u001b[0m     \u001b[0;32mexcept\u001b[0m \u001b[0mException\u001b[0m \u001b[0;32mas\u001b[0m \u001b[0me\u001b[0m\u001b[0;34m:\u001b[0m  \u001b[0;31m# pylint: disable=broad-except\u001b[0m\u001b[0;34m\u001b[0m\u001b[0;34m\u001b[0m\u001b[0m\n\u001b[1;32m     66\u001b[0m       \u001b[0mfiltered_tb\u001b[0m \u001b[0;34m=\u001b[0m \u001b[0m_process_traceback_frames\u001b[0m\u001b[0;34m(\u001b[0m\u001b[0me\u001b[0m\u001b[0;34m.\u001b[0m\u001b[0m__traceback__\u001b[0m\u001b[0;34m)\u001b[0m\u001b[0;34m\u001b[0m\u001b[0;34m\u001b[0m\u001b[0m\n",
            "\u001b[0;32m/usr/local/lib/python3.7/dist-packages/keras/engine/training.py\u001b[0m in \u001b[0;36mfit\u001b[0;34m(self, x, y, batch_size, epochs, verbose, callbacks, validation_split, validation_data, shuffle, class_weight, sample_weight, initial_epoch, steps_per_epoch, validation_steps, validation_batch_size, validation_freq, max_queue_size, workers, use_multiprocessing)\u001b[0m\n\u001b[1;32m   1407\u001b[0m                 _r=1):\n\u001b[1;32m   1408\u001b[0m               \u001b[0mcallbacks\u001b[0m\u001b[0;34m.\u001b[0m\u001b[0mon_train_batch_begin\u001b[0m\u001b[0;34m(\u001b[0m\u001b[0mstep\u001b[0m\u001b[0;34m)\u001b[0m\u001b[0;34m\u001b[0m\u001b[0;34m\u001b[0m\u001b[0m\n\u001b[0;32m-> 1409\u001b[0;31m               \u001b[0mtmp_logs\u001b[0m \u001b[0;34m=\u001b[0m \u001b[0mself\u001b[0m\u001b[0;34m.\u001b[0m\u001b[0mtrain_function\u001b[0m\u001b[0;34m(\u001b[0m\u001b[0miterator\u001b[0m\u001b[0;34m)\u001b[0m\u001b[0;34m\u001b[0m\u001b[0;34m\u001b[0m\u001b[0m\n\u001b[0m\u001b[1;32m   1410\u001b[0m               \u001b[0;32mif\u001b[0m \u001b[0mdata_handler\u001b[0m\u001b[0;34m.\u001b[0m\u001b[0mshould_sync\u001b[0m\u001b[0;34m:\u001b[0m\u001b[0;34m\u001b[0m\u001b[0;34m\u001b[0m\u001b[0m\n\u001b[1;32m   1411\u001b[0m                 \u001b[0mcontext\u001b[0m\u001b[0;34m.\u001b[0m\u001b[0masync_wait\u001b[0m\u001b[0;34m(\u001b[0m\u001b[0;34m)\u001b[0m\u001b[0;34m\u001b[0m\u001b[0;34m\u001b[0m\u001b[0m\n",
            "\u001b[0;32m/usr/local/lib/python3.7/dist-packages/tensorflow/python/util/traceback_utils.py\u001b[0m in \u001b[0;36merror_handler\u001b[0;34m(*args, **kwargs)\u001b[0m\n\u001b[1;32m    148\u001b[0m     \u001b[0mfiltered_tb\u001b[0m \u001b[0;34m=\u001b[0m \u001b[0;32mNone\u001b[0m\u001b[0;34m\u001b[0m\u001b[0;34m\u001b[0m\u001b[0m\n\u001b[1;32m    149\u001b[0m     \u001b[0;32mtry\u001b[0m\u001b[0;34m:\u001b[0m\u001b[0;34m\u001b[0m\u001b[0;34m\u001b[0m\u001b[0m\n\u001b[0;32m--> 150\u001b[0;31m       \u001b[0;32mreturn\u001b[0m \u001b[0mfn\u001b[0m\u001b[0;34m(\u001b[0m\u001b[0;34m*\u001b[0m\u001b[0margs\u001b[0m\u001b[0;34m,\u001b[0m \u001b[0;34m**\u001b[0m\u001b[0mkwargs\u001b[0m\u001b[0;34m)\u001b[0m\u001b[0;34m\u001b[0m\u001b[0;34m\u001b[0m\u001b[0m\n\u001b[0m\u001b[1;32m    151\u001b[0m     \u001b[0;32mexcept\u001b[0m \u001b[0mException\u001b[0m \u001b[0;32mas\u001b[0m \u001b[0me\u001b[0m\u001b[0;34m:\u001b[0m\u001b[0;34m\u001b[0m\u001b[0;34m\u001b[0m\u001b[0m\n\u001b[1;32m    152\u001b[0m       \u001b[0mfiltered_tb\u001b[0m \u001b[0;34m=\u001b[0m \u001b[0m_process_traceback_frames\u001b[0m\u001b[0;34m(\u001b[0m\u001b[0me\u001b[0m\u001b[0;34m.\u001b[0m\u001b[0m__traceback__\u001b[0m\u001b[0;34m)\u001b[0m\u001b[0;34m\u001b[0m\u001b[0;34m\u001b[0m\u001b[0m\n",
            "\u001b[0;32m/usr/local/lib/python3.7/dist-packages/tensorflow/python/eager/def_function.py\u001b[0m in \u001b[0;36m__call__\u001b[0;34m(self, *args, **kwds)\u001b[0m\n\u001b[1;32m    913\u001b[0m \u001b[0;34m\u001b[0m\u001b[0m\n\u001b[1;32m    914\u001b[0m       \u001b[0;32mwith\u001b[0m \u001b[0mOptionalXlaContext\u001b[0m\u001b[0;34m(\u001b[0m\u001b[0mself\u001b[0m\u001b[0;34m.\u001b[0m\u001b[0m_jit_compile\u001b[0m\u001b[0;34m)\u001b[0m\u001b[0;34m:\u001b[0m\u001b[0;34m\u001b[0m\u001b[0;34m\u001b[0m\u001b[0m\n\u001b[0;32m--> 915\u001b[0;31m         \u001b[0mresult\u001b[0m \u001b[0;34m=\u001b[0m \u001b[0mself\u001b[0m\u001b[0;34m.\u001b[0m\u001b[0m_call\u001b[0m\u001b[0;34m(\u001b[0m\u001b[0;34m*\u001b[0m\u001b[0margs\u001b[0m\u001b[0;34m,\u001b[0m \u001b[0;34m**\u001b[0m\u001b[0mkwds\u001b[0m\u001b[0;34m)\u001b[0m\u001b[0;34m\u001b[0m\u001b[0;34m\u001b[0m\u001b[0m\n\u001b[0m\u001b[1;32m    916\u001b[0m \u001b[0;34m\u001b[0m\u001b[0m\n\u001b[1;32m    917\u001b[0m       \u001b[0mnew_tracing_count\u001b[0m \u001b[0;34m=\u001b[0m \u001b[0mself\u001b[0m\u001b[0;34m.\u001b[0m\u001b[0mexperimental_get_tracing_count\u001b[0m\u001b[0;34m(\u001b[0m\u001b[0;34m)\u001b[0m\u001b[0;34m\u001b[0m\u001b[0;34m\u001b[0m\u001b[0m\n",
            "\u001b[0;32m/usr/local/lib/python3.7/dist-packages/tensorflow/python/eager/def_function.py\u001b[0m in \u001b[0;36m_call\u001b[0;34m(self, *args, **kwds)\u001b[0m\n\u001b[1;32m    945\u001b[0m       \u001b[0;31m# In this case we have created variables on the first call, so we run the\u001b[0m\u001b[0;34m\u001b[0m\u001b[0;34m\u001b[0m\u001b[0;34m\u001b[0m\u001b[0m\n\u001b[1;32m    946\u001b[0m       \u001b[0;31m# defunned version which is guaranteed to never create variables.\u001b[0m\u001b[0;34m\u001b[0m\u001b[0;34m\u001b[0m\u001b[0;34m\u001b[0m\u001b[0m\n\u001b[0;32m--> 947\u001b[0;31m       \u001b[0;32mreturn\u001b[0m \u001b[0mself\u001b[0m\u001b[0;34m.\u001b[0m\u001b[0m_stateless_fn\u001b[0m\u001b[0;34m(\u001b[0m\u001b[0;34m*\u001b[0m\u001b[0margs\u001b[0m\u001b[0;34m,\u001b[0m \u001b[0;34m**\u001b[0m\u001b[0mkwds\u001b[0m\u001b[0;34m)\u001b[0m  \u001b[0;31m# pylint: disable=not-callable\u001b[0m\u001b[0;34m\u001b[0m\u001b[0;34m\u001b[0m\u001b[0m\n\u001b[0m\u001b[1;32m    948\u001b[0m     \u001b[0;32melif\u001b[0m \u001b[0mself\u001b[0m\u001b[0;34m.\u001b[0m\u001b[0m_stateful_fn\u001b[0m \u001b[0;32mis\u001b[0m \u001b[0;32mnot\u001b[0m \u001b[0;32mNone\u001b[0m\u001b[0;34m:\u001b[0m\u001b[0;34m\u001b[0m\u001b[0;34m\u001b[0m\u001b[0m\n\u001b[1;32m    949\u001b[0m       \u001b[0;31m# Release the lock early so that multiple threads can perform the call\u001b[0m\u001b[0;34m\u001b[0m\u001b[0;34m\u001b[0m\u001b[0;34m\u001b[0m\u001b[0m\n",
            "\u001b[0;32m/usr/local/lib/python3.7/dist-packages/tensorflow/python/eager/function.py\u001b[0m in \u001b[0;36m__call__\u001b[0;34m(self, *args, **kwargs)\u001b[0m\n\u001b[1;32m   2452\u001b[0m        filtered_flat_args) = self._maybe_define_function(args, kwargs)\n\u001b[1;32m   2453\u001b[0m     return graph_function._call_flat(\n\u001b[0;32m-> 2454\u001b[0;31m         filtered_flat_args, captured_inputs=graph_function.captured_inputs)  # pylint: disable=protected-access\n\u001b[0m\u001b[1;32m   2455\u001b[0m \u001b[0;34m\u001b[0m\u001b[0m\n\u001b[1;32m   2456\u001b[0m   \u001b[0;34m@\u001b[0m\u001b[0mproperty\u001b[0m\u001b[0;34m\u001b[0m\u001b[0;34m\u001b[0m\u001b[0m\n",
            "\u001b[0;32m/usr/local/lib/python3.7/dist-packages/tensorflow/python/eager/function.py\u001b[0m in \u001b[0;36m_call_flat\u001b[0;34m(self, args, captured_inputs, cancellation_manager)\u001b[0m\n\u001b[1;32m   1859\u001b[0m       \u001b[0;31m# No tape is watching; skip to running the function.\u001b[0m\u001b[0;34m\u001b[0m\u001b[0;34m\u001b[0m\u001b[0;34m\u001b[0m\u001b[0m\n\u001b[1;32m   1860\u001b[0m       return self._build_call_outputs(self._inference_function.call(\n\u001b[0;32m-> 1861\u001b[0;31m           ctx, args, cancellation_manager=cancellation_manager))\n\u001b[0m\u001b[1;32m   1862\u001b[0m     forward_backward = self._select_forward_and_backward_functions(\n\u001b[1;32m   1863\u001b[0m         \u001b[0margs\u001b[0m\u001b[0;34m,\u001b[0m\u001b[0;34m\u001b[0m\u001b[0;34m\u001b[0m\u001b[0m\n",
            "\u001b[0;32m/usr/local/lib/python3.7/dist-packages/tensorflow/python/eager/function.py\u001b[0m in \u001b[0;36mcall\u001b[0;34m(self, ctx, args, cancellation_manager)\u001b[0m\n\u001b[1;32m    500\u001b[0m               \u001b[0minputs\u001b[0m\u001b[0;34m=\u001b[0m\u001b[0margs\u001b[0m\u001b[0;34m,\u001b[0m\u001b[0;34m\u001b[0m\u001b[0;34m\u001b[0m\u001b[0m\n\u001b[1;32m    501\u001b[0m               \u001b[0mattrs\u001b[0m\u001b[0;34m=\u001b[0m\u001b[0mattrs\u001b[0m\u001b[0;34m,\u001b[0m\u001b[0;34m\u001b[0m\u001b[0;34m\u001b[0m\u001b[0m\n\u001b[0;32m--> 502\u001b[0;31m               ctx=ctx)\n\u001b[0m\u001b[1;32m    503\u001b[0m         \u001b[0;32melse\u001b[0m\u001b[0;34m:\u001b[0m\u001b[0;34m\u001b[0m\u001b[0;34m\u001b[0m\u001b[0m\n\u001b[1;32m    504\u001b[0m           outputs = execute.execute_with_cancellation(\n",
            "\u001b[0;32m/usr/local/lib/python3.7/dist-packages/tensorflow/python/eager/execute.py\u001b[0m in \u001b[0;36mquick_execute\u001b[0;34m(op_name, num_outputs, inputs, attrs, ctx, name)\u001b[0m\n\u001b[1;32m     53\u001b[0m     \u001b[0mctx\u001b[0m\u001b[0;34m.\u001b[0m\u001b[0mensure_initialized\u001b[0m\u001b[0;34m(\u001b[0m\u001b[0;34m)\u001b[0m\u001b[0;34m\u001b[0m\u001b[0;34m\u001b[0m\u001b[0m\n\u001b[1;32m     54\u001b[0m     tensors = pywrap_tfe.TFE_Py_Execute(ctx._handle, device_name, op_name,\n\u001b[0;32m---> 55\u001b[0;31m                                         inputs, attrs, num_outputs)\n\u001b[0m\u001b[1;32m     56\u001b[0m   \u001b[0;32mexcept\u001b[0m \u001b[0mcore\u001b[0m\u001b[0;34m.\u001b[0m\u001b[0m_NotOkStatusException\u001b[0m \u001b[0;32mas\u001b[0m \u001b[0me\u001b[0m\u001b[0;34m:\u001b[0m\u001b[0;34m\u001b[0m\u001b[0;34m\u001b[0m\u001b[0m\n\u001b[1;32m     57\u001b[0m     \u001b[0;32mif\u001b[0m \u001b[0mname\u001b[0m \u001b[0;32mis\u001b[0m \u001b[0;32mnot\u001b[0m \u001b[0;32mNone\u001b[0m\u001b[0;34m:\u001b[0m\u001b[0;34m\u001b[0m\u001b[0;34m\u001b[0m\u001b[0m\n",
            "\u001b[0;31mKeyboardInterrupt\u001b[0m: "
          ]
        }
      ]
    },
    {
      "cell_type": "code",
      "source": [
        "test = \"this service will not stop tracking you after your account is deleted\"\n",
        "tokened_test = [word_to_token[word] for word in test.split(\" \")]\n",
        "tokened_test.extend([0]*(max_length+1-len(tokened_test)))\n",
        "model.predict([tokened_test])"
      ],
      "metadata": {
        "colab": {
          "base_uri": "https://localhost:8080/"
        },
        "id": "FjgpY_vFj7DD",
        "outputId": "bc99ad42-1b40-47c5-98bd-112dc90f8f3a"
      },
      "execution_count": 241,
      "outputs": [
        {
          "output_type": "stream",
          "name": "stdout",
          "text": [
            "1/1 [==============================] - 0s 34ms/step\n"
          ]
        },
        {
          "output_type": "execute_result",
          "data": {
            "text/plain": [
              "array([[0.00174549]], dtype=float32)"
            ]
          },
          "metadata": {},
          "execution_count": 241
        }
      ]
    },
    {
      "cell_type": "code",
      "source": [
        "tokened_test"
      ],
      "metadata": {
        "id": "GmJ0t3prkV6U"
      },
      "execution_count": null,
      "outputs": []
    },
    {
      "cell_type": "code",
      "source": [
        "word_to_token = {}\n",
        "token_count = 0\n",
        "tokened = []\n",
        "\n",
        "for i in X2:\n",
        "  line = []\n",
        "  for word in i:\n",
        "    try:\n",
        "      line.append(word_to_token[word])\n",
        "    except:\n",
        "      token_count+=1\n",
        "      word_to_token[word]=token_count\n",
        "      line.append(word_to_token[word])\n",
        "  tokened.append(line)\n",
        "max_length = 0\n",
        "for i in tokened:\n",
        "  if len(i)>max_length:\n",
        "    max_length=len(i)\n",
        "\n",
        "padded2 = []\n",
        "for i in tokened:\n",
        "  i.extend([0]*(max_length+1-len(i)))\n",
        "  padded2.append(i)\n",
        "\n",
        "model2 = tf.keras.Sequential([\n",
        "    tf.keras.layers.Input(shape=(max_length+1)),\n",
        "    tf.keras.layers.Embedding(\n",
        "        input_dim=token_count+2,\n",
        "        output_dim=64),\n",
        "    # tf.keras.layers.Conv1D(16, 5, activation='relu'),\n",
        "    # tf.keras.layers.Conv1D(32, 5, activation='relu'),\n",
        "    # tf.keras.layers.Conv1D(64, 5, activation='relu'),\n",
        "    # tf.keras.layers.Conv1D(128, 5, activation='relu'),\n",
        "    tf.keras.layers.GRU(100, activation='relu', return_sequences=1),\n",
        "    tf.keras.layers.Dense(50, activation='relu'),\n",
        "    tf.keras.layers.Dense(25, activation='relu'),\n",
        "    tf.keras.layers.Flatten(),\n",
        "    tf.keras.layers.Dense(2048, activation='relu'),\n",
        "    tf.keras.layers.Dense(1024, activation='relu'),\n",
        "    tf.keras.layers.Dense(64, activation='relu'),\n",
        "    tf.keras.layers.Dense(64, activation='relu'),\n",
        "    tf.keras.layers.Dropout(0.8),\n",
        "    tf.keras.layers.Dense(32, activation='relu'),\n",
        "    tf.keras.layers.Dense(18, activation='relu'),\n",
        "    tf.keras.layers.Dense(1, activation='sigmoid')\n",
        "])\n",
        "model2.compile(loss=tf.keras.losses.BinaryCrossentropy(),\n",
        "              optimizer=tf.keras.optimizers.Adam(1e-4),\n",
        "              metrics=[\"accuracy\"])\n",
        "index = np.arange(0,len(X2))\n",
        "np.random.shuffle(index)\n",
        "padded = np.array(padded2)[index]\n",
        "Y2 = np.array(Y2)[index]"
      ],
      "metadata": {
        "colab": {
          "base_uri": "https://localhost:8080/",
          "height": 396
        },
        "id": "eHVxcVh6ZQCA",
        "outputId": "c4e63a08-f7b6-40d8-901e-90eb19427e64"
      },
      "execution_count": 245,
      "outputs": [
        {
          "output_type": "stream",
          "name": "stderr",
          "text": [
            "WARNING:tensorflow:Layer gru_10 will not use cuDNN kernels since it doesn't meet the criteria. It will use a generic GPU kernel as fallback when running on GPU.\n"
          ]
        },
        {
          "output_type": "stream",
          "name": "stdout",
          "text": [
            "Epoch 1/30\n"
          ]
        },
        {
          "output_type": "error",
          "ename": "KeyboardInterrupt",
          "evalue": "ignored",
          "traceback": [
            "\u001b[0;31m---------------------------------------------------------------------------\u001b[0m",
            "\u001b[0;31mKeyboardInterrupt\u001b[0m                         Traceback (most recent call last)",
            "\u001b[0;32m<ipython-input-245-ea828c6a19eb>\u001b[0m in \u001b[0;36m<module>\u001b[0;34m\u001b[0m\n\u001b[1;32m     52\u001b[0m \u001b[0mpadded\u001b[0m \u001b[0;34m=\u001b[0m \u001b[0mnp\u001b[0m\u001b[0;34m.\u001b[0m\u001b[0marray\u001b[0m\u001b[0;34m(\u001b[0m\u001b[0mpadded2\u001b[0m\u001b[0;34m)\u001b[0m\u001b[0;34m[\u001b[0m\u001b[0mindex\u001b[0m\u001b[0;34m]\u001b[0m\u001b[0;34m\u001b[0m\u001b[0;34m\u001b[0m\u001b[0m\n\u001b[1;32m     53\u001b[0m \u001b[0mY2\u001b[0m \u001b[0;34m=\u001b[0m \u001b[0mnp\u001b[0m\u001b[0;34m.\u001b[0m\u001b[0marray\u001b[0m\u001b[0;34m(\u001b[0m\u001b[0mY2\u001b[0m\u001b[0;34m)\u001b[0m\u001b[0;34m[\u001b[0m\u001b[0mindex\u001b[0m\u001b[0;34m]\u001b[0m\u001b[0;34m\u001b[0m\u001b[0;34m\u001b[0m\u001b[0m\n\u001b[0;32m---> 54\u001b[0;31m \u001b[0mmodel2\u001b[0m\u001b[0;34m.\u001b[0m\u001b[0mfit\u001b[0m\u001b[0;34m(\u001b[0m\u001b[0mpadded\u001b[0m\u001b[0;34m,\u001b[0m \u001b[0mY2\u001b[0m\u001b[0;34m,\u001b[0m \u001b[0mepochs\u001b[0m\u001b[0;34m=\u001b[0m\u001b[0;36m30\u001b[0m\u001b[0;34m,\u001b[0m \u001b[0mshuffle\u001b[0m\u001b[0;34m=\u001b[0m\u001b[0;32mTrue\u001b[0m\u001b[0;34m,\u001b[0m \u001b[0mvalidation_split\u001b[0m\u001b[0;34m=\u001b[0m\u001b[0;36m0.1\u001b[0m\u001b[0;34m)\u001b[0m\u001b[0;34m\u001b[0m\u001b[0;34m\u001b[0m\u001b[0m\n\u001b[0m",
            "\u001b[0;32m/usr/local/lib/python3.7/dist-packages/keras/utils/traceback_utils.py\u001b[0m in \u001b[0;36merror_handler\u001b[0;34m(*args, **kwargs)\u001b[0m\n\u001b[1;32m     62\u001b[0m     \u001b[0mfiltered_tb\u001b[0m \u001b[0;34m=\u001b[0m \u001b[0;32mNone\u001b[0m\u001b[0;34m\u001b[0m\u001b[0;34m\u001b[0m\u001b[0m\n\u001b[1;32m     63\u001b[0m     \u001b[0;32mtry\u001b[0m\u001b[0;34m:\u001b[0m\u001b[0;34m\u001b[0m\u001b[0;34m\u001b[0m\u001b[0m\n\u001b[0;32m---> 64\u001b[0;31m       \u001b[0;32mreturn\u001b[0m \u001b[0mfn\u001b[0m\u001b[0;34m(\u001b[0m\u001b[0;34m*\u001b[0m\u001b[0margs\u001b[0m\u001b[0;34m,\u001b[0m \u001b[0;34m**\u001b[0m\u001b[0mkwargs\u001b[0m\u001b[0;34m)\u001b[0m\u001b[0;34m\u001b[0m\u001b[0;34m\u001b[0m\u001b[0m\n\u001b[0m\u001b[1;32m     65\u001b[0m     \u001b[0;32mexcept\u001b[0m \u001b[0mException\u001b[0m \u001b[0;32mas\u001b[0m \u001b[0me\u001b[0m\u001b[0;34m:\u001b[0m  \u001b[0;31m# pylint: disable=broad-except\u001b[0m\u001b[0;34m\u001b[0m\u001b[0;34m\u001b[0m\u001b[0m\n\u001b[1;32m     66\u001b[0m       \u001b[0mfiltered_tb\u001b[0m \u001b[0;34m=\u001b[0m \u001b[0m_process_traceback_frames\u001b[0m\u001b[0;34m(\u001b[0m\u001b[0me\u001b[0m\u001b[0;34m.\u001b[0m\u001b[0m__traceback__\u001b[0m\u001b[0;34m)\u001b[0m\u001b[0;34m\u001b[0m\u001b[0;34m\u001b[0m\u001b[0m\n",
            "\u001b[0;32m/usr/local/lib/python3.7/dist-packages/keras/engine/training.py\u001b[0m in \u001b[0;36mfit\u001b[0;34m(self, x, y, batch_size, epochs, verbose, callbacks, validation_split, validation_data, shuffle, class_weight, sample_weight, initial_epoch, steps_per_epoch, validation_steps, validation_batch_size, validation_freq, max_queue_size, workers, use_multiprocessing)\u001b[0m\n\u001b[1;32m   1407\u001b[0m                 _r=1):\n\u001b[1;32m   1408\u001b[0m               \u001b[0mcallbacks\u001b[0m\u001b[0;34m.\u001b[0m\u001b[0mon_train_batch_begin\u001b[0m\u001b[0;34m(\u001b[0m\u001b[0mstep\u001b[0m\u001b[0;34m)\u001b[0m\u001b[0;34m\u001b[0m\u001b[0;34m\u001b[0m\u001b[0m\n\u001b[0;32m-> 1409\u001b[0;31m               \u001b[0mtmp_logs\u001b[0m \u001b[0;34m=\u001b[0m \u001b[0mself\u001b[0m\u001b[0;34m.\u001b[0m\u001b[0mtrain_function\u001b[0m\u001b[0;34m(\u001b[0m\u001b[0miterator\u001b[0m\u001b[0;34m)\u001b[0m\u001b[0;34m\u001b[0m\u001b[0;34m\u001b[0m\u001b[0m\n\u001b[0m\u001b[1;32m   1410\u001b[0m               \u001b[0;32mif\u001b[0m \u001b[0mdata_handler\u001b[0m\u001b[0;34m.\u001b[0m\u001b[0mshould_sync\u001b[0m\u001b[0;34m:\u001b[0m\u001b[0;34m\u001b[0m\u001b[0;34m\u001b[0m\u001b[0m\n\u001b[1;32m   1411\u001b[0m                 \u001b[0mcontext\u001b[0m\u001b[0;34m.\u001b[0m\u001b[0masync_wait\u001b[0m\u001b[0;34m(\u001b[0m\u001b[0;34m)\u001b[0m\u001b[0;34m\u001b[0m\u001b[0;34m\u001b[0m\u001b[0m\n",
            "\u001b[0;32m/usr/local/lib/python3.7/dist-packages/tensorflow/python/util/traceback_utils.py\u001b[0m in \u001b[0;36merror_handler\u001b[0;34m(*args, **kwargs)\u001b[0m\n\u001b[1;32m    148\u001b[0m     \u001b[0mfiltered_tb\u001b[0m \u001b[0;34m=\u001b[0m \u001b[0;32mNone\u001b[0m\u001b[0;34m\u001b[0m\u001b[0;34m\u001b[0m\u001b[0m\n\u001b[1;32m    149\u001b[0m     \u001b[0;32mtry\u001b[0m\u001b[0;34m:\u001b[0m\u001b[0;34m\u001b[0m\u001b[0;34m\u001b[0m\u001b[0m\n\u001b[0;32m--> 150\u001b[0;31m       \u001b[0;32mreturn\u001b[0m \u001b[0mfn\u001b[0m\u001b[0;34m(\u001b[0m\u001b[0;34m*\u001b[0m\u001b[0margs\u001b[0m\u001b[0;34m,\u001b[0m \u001b[0;34m**\u001b[0m\u001b[0mkwargs\u001b[0m\u001b[0;34m)\u001b[0m\u001b[0;34m\u001b[0m\u001b[0;34m\u001b[0m\u001b[0m\n\u001b[0m\u001b[1;32m    151\u001b[0m     \u001b[0;32mexcept\u001b[0m \u001b[0mException\u001b[0m \u001b[0;32mas\u001b[0m \u001b[0me\u001b[0m\u001b[0;34m:\u001b[0m\u001b[0;34m\u001b[0m\u001b[0;34m\u001b[0m\u001b[0m\n\u001b[1;32m    152\u001b[0m       \u001b[0mfiltered_tb\u001b[0m \u001b[0;34m=\u001b[0m \u001b[0m_process_traceback_frames\u001b[0m\u001b[0;34m(\u001b[0m\u001b[0me\u001b[0m\u001b[0;34m.\u001b[0m\u001b[0m__traceback__\u001b[0m\u001b[0;34m)\u001b[0m\u001b[0;34m\u001b[0m\u001b[0;34m\u001b[0m\u001b[0m\n",
            "\u001b[0;32m/usr/local/lib/python3.7/dist-packages/tensorflow/python/eager/def_function.py\u001b[0m in \u001b[0;36m__call__\u001b[0;34m(self, *args, **kwds)\u001b[0m\n\u001b[1;32m    913\u001b[0m \u001b[0;34m\u001b[0m\u001b[0m\n\u001b[1;32m    914\u001b[0m       \u001b[0;32mwith\u001b[0m \u001b[0mOptionalXlaContext\u001b[0m\u001b[0;34m(\u001b[0m\u001b[0mself\u001b[0m\u001b[0;34m.\u001b[0m\u001b[0m_jit_compile\u001b[0m\u001b[0;34m)\u001b[0m\u001b[0;34m:\u001b[0m\u001b[0;34m\u001b[0m\u001b[0;34m\u001b[0m\u001b[0m\n\u001b[0;32m--> 915\u001b[0;31m         \u001b[0mresult\u001b[0m \u001b[0;34m=\u001b[0m \u001b[0mself\u001b[0m\u001b[0;34m.\u001b[0m\u001b[0m_call\u001b[0m\u001b[0;34m(\u001b[0m\u001b[0;34m*\u001b[0m\u001b[0margs\u001b[0m\u001b[0;34m,\u001b[0m \u001b[0;34m**\u001b[0m\u001b[0mkwds\u001b[0m\u001b[0;34m)\u001b[0m\u001b[0;34m\u001b[0m\u001b[0;34m\u001b[0m\u001b[0m\n\u001b[0m\u001b[1;32m    916\u001b[0m \u001b[0;34m\u001b[0m\u001b[0m\n\u001b[1;32m    917\u001b[0m       \u001b[0mnew_tracing_count\u001b[0m \u001b[0;34m=\u001b[0m \u001b[0mself\u001b[0m\u001b[0;34m.\u001b[0m\u001b[0mexperimental_get_tracing_count\u001b[0m\u001b[0;34m(\u001b[0m\u001b[0;34m)\u001b[0m\u001b[0;34m\u001b[0m\u001b[0;34m\u001b[0m\u001b[0m\n",
            "\u001b[0;32m/usr/local/lib/python3.7/dist-packages/tensorflow/python/eager/def_function.py\u001b[0m in \u001b[0;36m_call\u001b[0;34m(self, *args, **kwds)\u001b[0m\n\u001b[1;32m    978\u001b[0m         \u001b[0;31m# Lifting succeeded, so variables are initialized and we can run the\u001b[0m\u001b[0;34m\u001b[0m\u001b[0;34m\u001b[0m\u001b[0;34m\u001b[0m\u001b[0m\n\u001b[1;32m    979\u001b[0m         \u001b[0;31m# stateless function.\u001b[0m\u001b[0;34m\u001b[0m\u001b[0;34m\u001b[0m\u001b[0;34m\u001b[0m\u001b[0m\n\u001b[0;32m--> 980\u001b[0;31m         \u001b[0;32mreturn\u001b[0m \u001b[0mself\u001b[0m\u001b[0;34m.\u001b[0m\u001b[0m_stateless_fn\u001b[0m\u001b[0;34m(\u001b[0m\u001b[0;34m*\u001b[0m\u001b[0margs\u001b[0m\u001b[0;34m,\u001b[0m \u001b[0;34m**\u001b[0m\u001b[0mkwds\u001b[0m\u001b[0;34m)\u001b[0m\u001b[0;34m\u001b[0m\u001b[0;34m\u001b[0m\u001b[0m\n\u001b[0m\u001b[1;32m    981\u001b[0m     \u001b[0;32melse\u001b[0m\u001b[0;34m:\u001b[0m\u001b[0;34m\u001b[0m\u001b[0;34m\u001b[0m\u001b[0m\n\u001b[1;32m    982\u001b[0m       _, _, filtered_flat_args = (\n",
            "\u001b[0;32m/usr/local/lib/python3.7/dist-packages/tensorflow/python/eager/function.py\u001b[0m in \u001b[0;36m__call__\u001b[0;34m(self, *args, **kwargs)\u001b[0m\n\u001b[1;32m   2452\u001b[0m        filtered_flat_args) = self._maybe_define_function(args, kwargs)\n\u001b[1;32m   2453\u001b[0m     return graph_function._call_flat(\n\u001b[0;32m-> 2454\u001b[0;31m         filtered_flat_args, captured_inputs=graph_function.captured_inputs)  # pylint: disable=protected-access\n\u001b[0m\u001b[1;32m   2455\u001b[0m \u001b[0;34m\u001b[0m\u001b[0m\n\u001b[1;32m   2456\u001b[0m   \u001b[0;34m@\u001b[0m\u001b[0mproperty\u001b[0m\u001b[0;34m\u001b[0m\u001b[0;34m\u001b[0m\u001b[0m\n",
            "\u001b[0;32m/usr/local/lib/python3.7/dist-packages/tensorflow/python/eager/function.py\u001b[0m in \u001b[0;36m_call_flat\u001b[0;34m(self, args, captured_inputs, cancellation_manager)\u001b[0m\n\u001b[1;32m   1859\u001b[0m       \u001b[0;31m# No tape is watching; skip to running the function.\u001b[0m\u001b[0;34m\u001b[0m\u001b[0;34m\u001b[0m\u001b[0;34m\u001b[0m\u001b[0m\n\u001b[1;32m   1860\u001b[0m       return self._build_call_outputs(self._inference_function.call(\n\u001b[0;32m-> 1861\u001b[0;31m           ctx, args, cancellation_manager=cancellation_manager))\n\u001b[0m\u001b[1;32m   1862\u001b[0m     forward_backward = self._select_forward_and_backward_functions(\n\u001b[1;32m   1863\u001b[0m         \u001b[0margs\u001b[0m\u001b[0;34m,\u001b[0m\u001b[0;34m\u001b[0m\u001b[0;34m\u001b[0m\u001b[0m\n",
            "\u001b[0;32m/usr/local/lib/python3.7/dist-packages/tensorflow/python/eager/function.py\u001b[0m in \u001b[0;36mcall\u001b[0;34m(self, ctx, args, cancellation_manager)\u001b[0m\n\u001b[1;32m    500\u001b[0m               \u001b[0minputs\u001b[0m\u001b[0;34m=\u001b[0m\u001b[0margs\u001b[0m\u001b[0;34m,\u001b[0m\u001b[0;34m\u001b[0m\u001b[0;34m\u001b[0m\u001b[0m\n\u001b[1;32m    501\u001b[0m               \u001b[0mattrs\u001b[0m\u001b[0;34m=\u001b[0m\u001b[0mattrs\u001b[0m\u001b[0;34m,\u001b[0m\u001b[0;34m\u001b[0m\u001b[0;34m\u001b[0m\u001b[0m\n\u001b[0;32m--> 502\u001b[0;31m               ctx=ctx)\n\u001b[0m\u001b[1;32m    503\u001b[0m         \u001b[0;32melse\u001b[0m\u001b[0;34m:\u001b[0m\u001b[0;34m\u001b[0m\u001b[0;34m\u001b[0m\u001b[0m\n\u001b[1;32m    504\u001b[0m           outputs = execute.execute_with_cancellation(\n",
            "\u001b[0;32m/usr/local/lib/python3.7/dist-packages/tensorflow/python/eager/execute.py\u001b[0m in \u001b[0;36mquick_execute\u001b[0;34m(op_name, num_outputs, inputs, attrs, ctx, name)\u001b[0m\n\u001b[1;32m     53\u001b[0m     \u001b[0mctx\u001b[0m\u001b[0;34m.\u001b[0m\u001b[0mensure_initialized\u001b[0m\u001b[0;34m(\u001b[0m\u001b[0;34m)\u001b[0m\u001b[0;34m\u001b[0m\u001b[0;34m\u001b[0m\u001b[0m\n\u001b[1;32m     54\u001b[0m     tensors = pywrap_tfe.TFE_Py_Execute(ctx._handle, device_name, op_name,\n\u001b[0;32m---> 55\u001b[0;31m                                         inputs, attrs, num_outputs)\n\u001b[0m\u001b[1;32m     56\u001b[0m   \u001b[0;32mexcept\u001b[0m \u001b[0mcore\u001b[0m\u001b[0;34m.\u001b[0m\u001b[0m_NotOkStatusException\u001b[0m \u001b[0;32mas\u001b[0m \u001b[0me\u001b[0m\u001b[0;34m:\u001b[0m\u001b[0;34m\u001b[0m\u001b[0;34m\u001b[0m\u001b[0m\n\u001b[1;32m     57\u001b[0m     \u001b[0;32mif\u001b[0m \u001b[0mname\u001b[0m \u001b[0;32mis\u001b[0m \u001b[0;32mnot\u001b[0m \u001b[0;32mNone\u001b[0m\u001b[0;34m:\u001b[0m\u001b[0;34m\u001b[0m\u001b[0;34m\u001b[0m\u001b[0m\n",
            "\u001b[0;31mKeyboardInterrupt\u001b[0m: "
          ]
        }
      ]
    },
    {
      "cell_type": "code",
      "source": [
        "history = model2.fit(padded, Y2, epochs=30, shuffle=True, validation_split=0.1)\n"
      ],
      "metadata": {
        "colab": {
          "base_uri": "https://localhost:8080/"
        },
        "id": "oUns9oJ4rKlS",
        "outputId": "d929ef5b-4571-4165-f853-932250545bf3"
      },
      "execution_count": null,
      "outputs": [
        {
          "output_type": "stream",
          "name": "stdout",
          "text": [
            "Epoch 1/30\n",
            "22/22 [==============================] - 8s 386ms/step - loss: 0.6921 - accuracy: 0.5506 - val_loss: 0.6881 - val_accuracy: 0.6623\n",
            "Epoch 2/30\n",
            "22/22 [==============================] - 8s 352ms/step - loss: 0.6821 - accuracy: 0.6084 - val_loss: 0.6566 - val_accuracy: 0.6623\n",
            "Epoch 3/30\n",
            "22/22 [==============================] - 8s 354ms/step - loss: 0.6683 - accuracy: 0.6127 - val_loss: 0.6420 - val_accuracy: 0.6623\n",
            "Epoch 4/30\n",
            "22/22 [==============================] - 8s 353ms/step - loss: 0.6611 - accuracy: 0.6228 - val_loss: 0.6318 - val_accuracy: 0.6623\n",
            "Epoch 5/30\n",
            "22/22 [==============================] - 8s 357ms/step - loss: 0.6526 - accuracy: 0.6214 - val_loss: 0.6181 - val_accuracy: 0.6623\n",
            "Epoch 6/30\n",
            "22/22 [==============================] - 8s 363ms/step - loss: 0.6448 - accuracy: 0.6228 - val_loss: 0.6069 - val_accuracy: 0.6623\n",
            "Epoch 7/30\n",
            "22/22 [==============================] - 8s 348ms/step - loss: 0.6323 - accuracy: 0.6142 - val_loss: 0.5801 - val_accuracy: 0.6623\n",
            "Epoch 8/30\n",
            "22/22 [==============================] - 8s 361ms/step - loss: 0.5953 - accuracy: 0.6243 - val_loss: 0.5478 - val_accuracy: 0.6623\n",
            "Epoch 9/30\n",
            "22/22 [==============================] - 8s 359ms/step - loss: 0.5442 - accuracy: 0.6402 - val_loss: 0.4948 - val_accuracy: 0.6623\n",
            "Epoch 10/30\n",
            "22/22 [==============================] - 8s 348ms/step - loss: 0.4689 - accuracy: 0.6691 - val_loss: 0.4547 - val_accuracy: 0.7922\n",
            "Epoch 11/30\n",
            "22/22 [==============================] - 8s 361ms/step - loss: 0.3989 - accuracy: 0.7370 - val_loss: 0.4513 - val_accuracy: 0.7792\n",
            "Epoch 12/30\n",
            "22/22 [==============================] - 8s 346ms/step - loss: 0.3572 - accuracy: 0.7659 - val_loss: 0.4513 - val_accuracy: 0.8182\n",
            "Epoch 13/30\n",
            "22/22 [==============================] - 8s 381ms/step - loss: 0.3148 - accuracy: 0.8439 - val_loss: 0.4912 - val_accuracy: 0.8312\n",
            "Epoch 14/30\n",
            "22/22 [==============================] - 8s 349ms/step - loss: 0.2865 - accuracy: 0.8627 - val_loss: 0.4775 - val_accuracy: 0.8182\n",
            "Epoch 15/30\n",
            "22/22 [==============================] - 8s 347ms/step - loss: 0.2569 - accuracy: 0.8844 - val_loss: 0.4798 - val_accuracy: 0.8052\n",
            "Epoch 16/30\n",
            "22/22 [==============================] - 8s 356ms/step - loss: 0.2115 - accuracy: 0.9075 - val_loss: 0.5579 - val_accuracy: 0.7922\n",
            "Epoch 17/30\n",
            "22/22 [==============================] - 8s 352ms/step - loss: 0.1762 - accuracy: 0.9335 - val_loss: 0.6416 - val_accuracy: 0.8571\n",
            "Epoch 18/30\n",
            "22/22 [==============================] - 8s 351ms/step - loss: 0.1626 - accuracy: 0.9306 - val_loss: 0.6721 - val_accuracy: 0.8182\n",
            "Epoch 19/30\n",
            "22/22 [==============================] - 8s 358ms/step - loss: 0.1363 - accuracy: 0.9465 - val_loss: 0.7839 - val_accuracy: 0.8312\n",
            "Epoch 20/30\n",
            "22/22 [==============================] - 8s 351ms/step - loss: 0.1274 - accuracy: 0.9523 - val_loss: 0.7948 - val_accuracy: 0.8312\n",
            "Epoch 21/30\n",
            "22/22 [==============================] - 8s 348ms/step - loss: 0.1033 - accuracy: 0.9711 - val_loss: 0.8025 - val_accuracy: 0.8182\n",
            "Epoch 22/30\n",
            "22/22 [==============================] - 8s 344ms/step - loss: 0.0678 - accuracy: 0.9827 - val_loss: 0.9777 - val_accuracy: 0.8442\n",
            "Epoch 23/30\n",
            "22/22 [==============================] - 8s 356ms/step - loss: 0.0524 - accuracy: 0.9913 - val_loss: 1.0769 - val_accuracy: 0.8182\n",
            "Epoch 24/30\n",
            "22/22 [==============================] - 8s 346ms/step - loss: 0.0722 - accuracy: 0.9624 - val_loss: 1.1650 - val_accuracy: 0.8571\n",
            "Epoch 25/30\n",
            "22/22 [==============================] - 8s 348ms/step - loss: 0.0554 - accuracy: 0.9884 - val_loss: 1.3180 - val_accuracy: 0.8312\n",
            "Epoch 26/30\n",
            " 9/22 [===========>..................] - ETA: 4s - loss: 0.0714 - accuracy: 0.9688"
          ]
        }
      ]
    },
    {
      "cell_type": "code",
      "source": [
        "from sklearn.feature_extraction.text import CountVectorizer"
      ],
      "metadata": {
        "id": "1vSnpVwqexGO"
      },
      "execution_count": null,
      "outputs": []
    },
    {
      "cell_type": "code",
      "source": [
        "tf = CountVectorizer()\n",
        "X = tf.fit_transform(X1)"
      ],
      "metadata": {
        "id": "jxba8ZFse0cu"
      },
      "execution_count": null,
      "outputs": []
    },
    {
      "cell_type": "code",
      "source": [
        "X1"
      ],
      "metadata": {
        "id": "kgWna3Ube20t"
      },
      "execution_count": null,
      "outputs": []
    }
  ]
}